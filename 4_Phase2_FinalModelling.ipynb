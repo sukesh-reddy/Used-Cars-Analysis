{
 "cells": [
  {
   "cell_type": "code",
   "execution_count": 10,
   "metadata": {},
   "outputs": [],
   "source": [
    "from sklearn.model_selection import train_test_split\n",
    "from sklearn import ensemble\n",
    "import pandas as pd\n",
    "import numpy as np\n",
    "from sklearn.preprocessing import LabelEncoder\n",
    "from sklearn.metrics import mean_squared_error\n",
    "from math import sqrt\n",
    "cleaned=pd.read_csv(\"C:/Users/avakk/Downloads/primarysecondary.csv\")\n",
    "cleaned.drop([\"state\",\"GDP2015\",\"GDP2014\",\"GDP2013\",\"GDP2012\",\"GDP2011\"],axis=1,inplace=True)\n",
    "\n",
    "for index,row in cleaned.iterrows():\n",
    "    cleaned.at[index,\"GDP2018\"]=row[\"GDP2018\"].replace(\",\",\"\")\n",
    "    cleaned.at[index,\"GDP2017\"]=row[\"GDP2017\"].replace(\",\",\"\")\n",
    "    cleaned.at[index,\"GDP2016\"]=row[\"GDP2016\"].replace(\",\",\"\")\n",
    "    #cleaned.at[index,\"GDP2015\"]=row[\"GDP2015\"].replace(\",\",\"\")\n",
    "    #cleaned.at[index,\"GDP2014\"]=row[\"GDP2014\"].replace(\",\",\"\")\n",
    "    \n",
    "tonumeric=[\"GDP2018\",\"GDP2017\",\"GDP2016\"]#,\"GDP2015\",\"GDP2014\"]\n",
    "\n",
    "for val in tonumeric:\n",
    "    cleaned[val]=pd.to_numeric(cleaned[val])\n",
    "\n",
    "y=cleaned[\"price\"]\n",
    "x=cleaned.drop('price',axis=1)\n",
    "x_train,x_test,y_train,y_test=train_test_split(x,y,test_size=0.2,random_state=42)"
   ]
  },
  {
   "cell_type": "code",
   "execution_count": 11,
   "metadata": {},
   "outputs": [
    {
     "name": "stderr",
     "output_type": "stream",
     "text": [
      "C:\\Users\\avakk\\Anaconda3\\lib\\site-packages\\ipykernel_launcher.py:6: SettingWithCopyWarning: \n",
      "A value is trying to be set on a copy of a slice from a DataFrame.\n",
      "Try using .loc[row_indexer,col_indexer] = value instead\n",
      "\n",
      "See the caveats in the documentation: http://pandas.pydata.org/pandas-docs/stable/user_guide/indexing.html#returning-a-view-versus-a-copy\n",
      "  \n",
      "C:\\Users\\avakk\\Anaconda3\\lib\\site-packages\\ipykernel_launcher.py:7: SettingWithCopyWarning: \n",
      "A value is trying to be set on a copy of a slice from a DataFrame.\n",
      "Try using .loc[row_indexer,col_indexer] = value instead\n",
      "\n",
      "See the caveats in the documentation: http://pandas.pydata.org/pandas-docs/stable/user_guide/indexing.html#returning-a-view-versus-a-copy\n",
      "  import sys\n",
      "C:\\Users\\avakk\\Anaconda3\\lib\\site-packages\\ipykernel_launcher.py:14: SettingWithCopyWarning: \n",
      "A value is trying to be set on a copy of a slice from a DataFrame.\n",
      "Try using .loc[row_indexer,col_indexer] = value instead\n",
      "\n",
      "See the caveats in the documentation: http://pandas.pydata.org/pandas-docs/stable/user_guide/indexing.html#returning-a-view-versus-a-copy\n",
      "  \n",
      "C:\\Users\\avakk\\Anaconda3\\lib\\site-packages\\ipykernel_launcher.py:18: SettingWithCopyWarning: \n",
      "A value is trying to be set on a copy of a slice from a DataFrame.\n",
      "Try using .loc[row_indexer,col_indexer] = value instead\n",
      "\n",
      "See the caveats in the documentation: http://pandas.pydata.org/pandas-docs/stable/user_guide/indexing.html#returning-a-view-versus-a-copy\n"
     ]
    }
   ],
   "source": [
    "numeric=[\"odometer\",\"year\",\"GDP2018\",\"GDP2017\",\"GDP2016\"]#,\"GDP2015\",\"GDP2014\"]\n",
    "\n",
    "for val in numeric:\n",
    "    x_min=x_train[val].min()\n",
    "    x_max=x_train[val].max()\n",
    "    x_train[val]=((x_train[val]-x_min)/(x_max-x_min))\n",
    "    x_test[val]=((x_test[val]-x_min)/(x_max-x_min))\n",
    "    \n",
    "ordinal_columns=[\"cylinders\"]\n",
    "\n",
    "for col in ordinal_columns:\n",
    "     le = LabelEncoder()\n",
    "     le.fit_transform(list(x_train[col].astype(str).values))\n",
    "     x_train[col] = le.transform(list(x_train[col].astype(str).values))\n",
    "\n",
    "for col in ordinal_columns:\n",
    "    le.fit(list(x_test[col].astype(str).values))\n",
    "    x_test[col] = le.transform(list(x_test[col].astype(str).values))"
   ]
  },
  {
   "cell_type": "code",
   "execution_count": 12,
   "metadata": {},
   "outputs": [
    {
     "name": "stderr",
     "output_type": "stream",
     "text": [
      "C:\\Users\\avakk\\Anaconda3\\lib\\site-packages\\ipykernel_launcher.py:3: SettingWithCopyWarning: \n",
      "A value is trying to be set on a copy of a slice from a DataFrame.\n",
      "Try using .loc[row_indexer,col_indexer] = value instead\n",
      "\n",
      "See the caveats in the documentation: http://pandas.pydata.org/pandas-docs/stable/user_guide/indexing.html#returning-a-view-versus-a-copy\n",
      "  This is separate from the ipykernel package so we can avoid doing imports until\n",
      "C:\\Users\\avakk\\Anaconda3\\lib\\site-packages\\ipykernel_launcher.py:4: SettingWithCopyWarning: \n",
      "A value is trying to be set on a copy of a slice from a DataFrame.\n",
      "Try using .loc[row_indexer,col_indexer] = value instead\n",
      "\n",
      "See the caveats in the documentation: http://pandas.pydata.org/pandas-docs/stable/user_guide/indexing.html#returning-a-view-versus-a-copy\n",
      "  after removing the cwd from sys.path.\n"
     ]
    }
   ],
   "source": [
    "x_cylmin=x_train[\"cylinders\"].min()\n",
    "x_cylmax=x_train[\"cylinders\"].max()\n",
    "x_train[\"cylinders\"]=((x_train[\"cylinders\"]-x_cylmin)/(x_cylmax-x_cylmin))\n",
    "x_test[\"cylinders\"]=((x_test[\"cylinders\"]-x_cylmin)/(x_cylmax-x_cylmin))"
   ]
  },
  {
   "cell_type": "code",
   "execution_count": 13,
   "metadata": {},
   "outputs": [],
   "source": [
    "xx_train=pd.get_dummies(x_train)\n",
    "xx_test=pd.get_dummies(x_test)\n",
    "\n",
    "missing_cols=set(xx_train.columns)-set(xx_test.columns)\n",
    "for val in missing_cols:\n",
    "    xx_test[val]=0\n",
    "    \n",
    "xx_test=xx_test[xx_train.columns]"
   ]
  },
  {
   "cell_type": "code",
   "execution_count": 14,
   "metadata": {},
   "outputs": [
    {
     "data": {
      "text/plain": [
       "RandomForestRegressor(bootstrap=True, criterion='mse', max_depth=None,\n",
       "                      max_features='auto', max_leaf_nodes=None,\n",
       "                      min_impurity_decrease=0.0, min_impurity_split=None,\n",
       "                      min_samples_leaf=1, min_samples_split=2,\n",
       "                      min_weight_fraction_leaf=0.0, n_estimators=20, n_jobs=-1,\n",
       "                      oob_score=False, random_state=0, verbose=0,\n",
       "                      warm_start=False)"
      ]
     },
     "execution_count": 14,
     "metadata": {},
     "output_type": "execute_result"
    }
   ],
   "source": [
    "from sklearn.ensemble import RandomForestRegressor\n",
    "regressor = RandomForestRegressor(n_estimators=20, random_state=0,n_jobs=-1)\n",
    "regressor.fit(xx_train,y_train)"
   ]
  },
  {
   "cell_type": "code",
   "execution_count": 15,
   "metadata": {},
   "outputs": [
    {
     "name": "stdout",
     "output_type": "stream",
     "text": [
      "rmse (Test): 0.29195984764164346\n",
      "r2 (Test):0.8408254544137174\n",
      "rmse (Train): 0.12808141826328856\n",
      "r2 (Train):0.9694890073981104\n"
     ]
    }
   ],
   "source": [
    "y_pred_test = regressor.predict(xx_test)\n",
    "y_pred_train = regressor.predict(xx_train)\n",
    "\n",
    "# Metrics\n",
    "from sklearn import metrics\n",
    "\n",
    "print('rmse (Test):', np.sqrt(metrics.mean_squared_error(y_test, y_pred_test)))\n",
    "print(\"r2 (Test):{}\".format(regressor.score(xx_test, y_test)))\n",
    "\n",
    "print('rmse (Train):', np.sqrt(metrics.mean_squared_error(y_train, y_pred_train)))\n",
    "print(\"r2 (Train):{}\".format(regressor.score(xx_train, y_train)))"
   ]
  },
  {
   "cell_type": "code",
   "execution_count": 16,
   "metadata": {},
   "outputs": [],
   "source": [
    "import pickle\n",
    "pickle.dump(regressor, open('RandomFRegPh2.pkl','wb'))"
   ]
  },
  {
   "cell_type": "code",
   "execution_count": 17,
   "metadata": {},
   "outputs": [],
   "source": [
    "regressor=pickle.load(open('RandomFRegPh2.pkl', 'rb'))"
   ]
  },
  {
   "cell_type": "code",
   "execution_count": null,
   "metadata": {},
   "outputs": [],
   "source": []
  }
 ],
 "metadata": {
  "kernelspec": {
   "display_name": "Python 3",
   "language": "python",
   "name": "python3"
  },
  "language_info": {
   "codemirror_mode": {
    "name": "ipython",
    "version": 3
   },
   "file_extension": ".py",
   "mimetype": "text/x-python",
   "name": "python",
   "nbconvert_exporter": "python",
   "pygments_lexer": "ipython3",
   "version": "3.7.4"
  }
 },
 "nbformat": 4,
 "nbformat_minor": 2
}
